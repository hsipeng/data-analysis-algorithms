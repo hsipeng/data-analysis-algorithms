{
 "nbformat": 4,
 "nbformat_minor": 2,
 "metadata": {
  "language_info": {
   "name": "python",
   "codemirror_mode": {
    "name": "ipython",
    "version": 3
   },
   "version": "3.6.8"
  },
  "orig_nbformat": 2,
  "file_extension": ".py",
  "mimetype": "text/x-python",
  "name": "python",
  "npconvert_exporter": "python",
  "pygments_lexer": "ipython3",
  "version": 3
 },
 "cells": [
  {
   "cell_type": "code",
   "metadata": {},
   "outputs": [],
   "source": [
    "# K-means算法时集简单和经典于一身的基于距离的聚类算法。采用距离作为相似度的评价指标，即认为两个对象的距离越近，其相似度就越大。该算法认为类簇是由距离靠近的对象组成的，因此把得到紧凑且独立的簇作为最终目标。\n",
    "\n",
    "# 通过迭代寻找k个类簇的一种划分方案，使得用这k个类簇的均值来代表相应各类样本时所得的总体误差最小。\n",
    "\n",
    "# k个聚类具有以下特点：各聚类本身尽可能的紧凑，而各聚类之间尽可能的分开。\n",
    "\n",
    "# k-means算法的基础是最小误差平方和准则通过迭代寻找k个类簇的一种划分方案，使得用这k个类簇的均值来代表相应各类样本时所得的总体误差最小。\n",
    "\n",
    "# k个聚类具有以下特点：各聚类本身尽可能的紧凑，而各聚类之间尽可能的分开。\n",
    "\n",
    "# k-means算法的基础是最小误差平方和准则"
   ]
  },
  {
   "cell_type": "code",
   "metadata": {},
   "outputs": [],
   "source": [
    "# k-means算法是将样本聚类成k个簇(cluster)，其中k是用户给定的，其求解过程非常直观简单，具体算法描述如下：\n",
    "\n",
    "# 其伪代码如下：\n",
    "\n",
    "# ********************************************************************\n",
    "\n",
    "# 创建k个点作为初始的质心点（随机选择）\n",
    "\n",
    "# 当任意一个点的簇分配结果发生改变时\n",
    "\n",
    "#         对数据集中的每一个数据点\n",
    "\n",
    "#                    对每一个质心\n",
    "\n",
    "#                             计算质心与数据点的距离\n",
    "\n",
    "#                    将数据点分配到距离最近的簇\n",
    "\n",
    "#          对每一个簇，计算簇中所有点的均值，并将均值作为质心\n",
    "\n",
    "# ********************************************************************"
   ]
  },
  {
   "cell_type": "code",
   "execution_count": 1,
   "metadata": {},
   "outputs": [],
   "source": [
    "from numpy import *\n",
    "#加载数据\n",
    "def loadDataSet(fileName):\n",
    "    dataMat = []\n",
    "    fr = open(fileName)\n",
    "    for line in fr.readlines():\n",
    "        curLine = line.strip().split('\\t')\n",
    "        fltLine = map(float, curLine)    #变成float类型\n",
    "        dataMat.append(fltLine)\n",
    "    return dataMat\n",
    "\n",
    "# 计算欧几里得距离\n",
    "def distEclud(vecA, vecB):\n",
    "    return sqrt(sum(power(vecA - vecB, 2)))\n",
    "\n",
    "#构建聚簇中心，取k个(此例中为4)随机质心\n",
    "def randCent(dataSet, k):\n",
    "    n = shape(dataSet)[1]\n",
    "    centroids = mat(zeros((k,n)))   #每个质心有n个坐标值，总共要k个质心\n",
    "    for j in range(n):\n",
    "        minJ = min(dataSet[:,j])\n",
    "        maxJ = max(dataSet[:,j])\n",
    "        rangeJ = float(maxJ - minJ)\n",
    "        centroids[:,j] = minJ + rangeJ * random.rand(k, 1)\n",
    "    return centroids\n",
    "\n",
    "#k-means 聚类算法\n",
    "def kMeans(dataSet, k, distMeans =distEclud, createCent = randCent):\n",
    "    m = shape(dataSet)[0]\n",
    "    clusterAssment = mat(zeros((m,2)))    #用于存放该样本属于哪类及质心距离\n",
    "    centroids = createCent(dataSet, k)\n",
    "    clusterChanged = True\n",
    "    while clusterChanged:\n",
    "        clusterChanged = False\n",
    "        for i in range(m):\n",
    "            minDist = inf; minIndex = -1\n",
    "            for j in range(k):\n",
    "                distJI = distMeans(centroids[j,:], dataSet[i,:])\n",
    "                if distJI < minDist:\n",
    "                    minDist = distJI; minIndex = j\n",
    "            if clusterAssment[i,0] != minIndex: clusterChanged = True\n",
    "            clusterAssment[i,:] = minIndex,minDist**2\n",
    "        print(centroids)\n",
    "        for cent in range(k):\n",
    "            ptsInClust = dataSet[nonzero(clusterAssment[:,0].A == cent)[0]]   # 去第一列等于cent的所有列\n",
    "            centroids[cent,:] = mean(ptsInClust, axis = 0)\n",
    "    return centroids, clusterAssment"
   ]
  },
  {
   "cell_type": "code",
   "execution_count": 4,
   "metadata": {},
   "outputs": [
    {
     "name": "stdout",
     "output_type": "stream",
     "text": "step 1: load data...\n['1.658985', '4.285136']\n['-3.453687', '3.424321']\n['4.838138', '-1.151539']\n['-5.379713', '-3.362104']\n['0.972564', '2.924086']\n['-3.567919', '1.531611']\n['0.450614', '-3.302219']\n['-3.487105', '-1.724432']\n['2.668759', '1.594842']\n['-3.156485', '3.191137']\n['3.165506', '-3.999838']\n['-2.786837', '-3.099354']\n['4.208187', '2.984927']\n['-2.123337', '2.943366']\n['0.704199', '-0.479481']\n['-0.392370', '-3.963704']\n['2.831667', '1.574018']\n['-0.790153', '3.343144']\n['2.943496', '-3.357075']\nstep 2: clustering...\n[[-5.23734347  1.81127241]\n [ 4.45848671 -0.2218259 ]\n [ 0.46805874  2.886279  ]\n [ 2.68800477 -1.19162504]]\n[[-3.63862433 -0.00647017]\n [ 3.63668775  1.250562  ]\n [-0.07048525  3.373933  ]\n [ 1.374289   -3.0204634 ]]\n[[-3.8053935  -1.66356975]\n [ 3.63668775  1.250562  ]\n [-1.1486855   3.351865  ]\n [ 1.374289   -3.0204634 ]]\n[[-3.88455167 -2.72863   ]\n [ 3.63668775  1.250562  ]\n [-1.49429029  3.09182871]\n [ 1.374289   -3.0204634 ]]\nstep 3: show the result...\n"
    },
    {
     "ename": "NameError",
     "evalue": "name 'showCluster' is not defined",
     "output_type": "error",
     "traceback": [
      "\u001b[0;31m---------------------------------------------------------------------------\u001b[0m",
      "\u001b[0;31mNameError\u001b[0m                                 Traceback (most recent call last)",
      "\u001b[0;32m<ipython-input-4-172cd6d44af9>\u001b[0m in \u001b[0;36m<module>\u001b[0;34m\u001b[0m\n\u001b[1;32m     20\u001b[0m \u001b[0;31m## step 3:显示结果\u001b[0m\u001b[0;34m\u001b[0m\u001b[0;34m\u001b[0m\u001b[0;34m\u001b[0m\u001b[0m\n\u001b[1;32m     21\u001b[0m \u001b[0mprint\u001b[0m\u001b[0;34m(\u001b[0m\u001b[0;34m\"step 3: show the result...\"\u001b[0m\u001b[0;34m)\u001b[0m\u001b[0;34m\u001b[0m\u001b[0;34m\u001b[0m\u001b[0m\n\u001b[0;32m---> 22\u001b[0;31m \u001b[0mshowCluster\u001b[0m\u001b[0;34m(\u001b[0m\u001b[0mdataSet\u001b[0m\u001b[0;34m,\u001b[0m \u001b[0mk\u001b[0m\u001b[0;34m,\u001b[0m \u001b[0mcentroids\u001b[0m\u001b[0;34m,\u001b[0m \u001b[0mclusterAssment\u001b[0m\u001b[0;34m)\u001b[0m\u001b[0;34m\u001b[0m\u001b[0;34m\u001b[0m\u001b[0m\n\u001b[0m",
      "\u001b[0;31mNameError\u001b[0m: name 'showCluster' is not defined"
     ]
    }
   ],
   "source": [
    "#################################################\n",
    "# kmeans: k-means cluster\n",
    "#################################################\n",
    "from numpy import *\n",
    "import time\n",
    "import matplotlib.pyplot as plt\n",
    "## step 1:加载数据\n",
    "print(\"step 1: load data...\")\n",
    "dataSet = []\n",
    "fileIn = open('/Users/lirawx/Documents/Workspace/data-analysis-algorithms/machine-algorithms-with-python/testSet.txt')\n",
    "for line in fileIn.readlines():\n",
    "    lineArr = line.strip().split(',')\n",
    "    print(lineArr)\n",
    "    dataSet.append([float(lineArr[0]), float(lineArr[1])])\n",
    "## step 2: 聚类\n",
    "print(\"step 2: clustering...\")\n",
    "dataSet = mat(dataSet)\n",
    "k = 4\n",
    "centroids, clusterAssment = kMeans(dataSet, k)\n",
    "## step 3:显示结果\n",
    "print(\"step 3: show the result...\")\n",
    "# showCluster(dataSet, k, centroids, clusterAssment)"
   ]
  },
  {
   "cell_type": "code",
   "metadata": {},
   "outputs": [],
   "source": []
  }
 ]
}